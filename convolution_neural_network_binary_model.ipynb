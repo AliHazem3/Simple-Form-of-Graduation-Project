{
  "nbformat": 4,
  "nbformat_minor": 0,
  "metadata": {
    "colab": {
      "provenance": [],
      "include_colab_link": true
    },
    "kernelspec": {
      "name": "python3",
      "display_name": "Python 3"
    },
    "language_info": {
      "name": "python"
    }
  },
  "cells": [
    {
      "cell_type": "markdown",
      "metadata": {
        "id": "view-in-github",
        "colab_type": "text"
      },
      "source": [
        "<a href=\"https://colab.research.google.com/github/AliHazem3/Simple-Form-of-Graduation-Project/blob/main/convolution_neural_network_binary_model.ipynb\" target=\"_parent\"><img src=\"https://colab.research.google.com/assets/colab-badge.svg\" alt=\"Open In Colab\"/></a>"
      ]
    },
    {
      "cell_type": "code",
      "execution_count": null,
      "metadata": {
        "colab": {
          "base_uri": "https://localhost:8080/"
        },
        "id": "ZhBf8ISaDx6S",
        "outputId": "7abbe3cb-7a06-4b85-f1e2-bb0449c2fe93"
      },
      "outputs": [
        {
          "output_type": "stream",
          "name": "stdout",
          "text": [
            "Mounted at /content/drive\n"
          ]
        }
      ],
      "source": [
        "from google.colab import drive\n",
        "drive.mount('/content/drive')"
      ]
    },
    {
      "cell_type": "code",
      "source": [
        "from keras.layers import Flatten, Dense, Activation, Conv2D, MaxPooling2D, Dropout\n",
        "from keras.models import load_model, Sequential\n",
        "from keras.preprocessing.image import ImageDataGenerator\n",
        "from keras.utils import to_categorical\n",
        "import matplotlib.pyplot as plt\n",
        "import numpy as np"
      ],
      "metadata": {
        "id": "7sTq_6LvECKm"
      },
      "execution_count": null,
      "outputs": []
    },
    {
      "cell_type": "code",
      "source": [
        "model = Sequential()\n",
        "model.add(Conv2D(32, 3, 3, input_shape = (32, 32, 3),activation ='relu'))\n",
        "model.add(MaxPooling2D(pool_size=(2,2)))\n",
        "model.add(Flatten())\n",
        "model.add(Dense(units=128, activation='relu'))\n",
        "model.add(Dense(1, activation='sigmoid'))"
      ],
      "metadata": {
        "id": "s8QTYfcnECj-"
      },
      "execution_count": null,
      "outputs": []
    },
    {
      "cell_type": "code",
      "source": [
        "model.compile(optimizer = 'adam', loss = 'binary_crossentropy', metrics = ['accuracy'])"
      ],
      "metadata": {
        "id": "3Ej3Iw2CEh6W"
      },
      "execution_count": null,
      "outputs": []
    },
    {
      "cell_type": "code",
      "source": [
        "train_datagen = ImageDataGenerator(rescale = 1./255,\n",
        "                                   shear_range = 0.2,\n",
        "                                   zoom_range = 0.2,\n",
        "                                   horizontal_flip = True)\n",
        "training_set = train_datagen.flow_from_directory('/content/drive/MyDrive/skin cancer last data/train',\n",
        "                                                 target_size = (32, 32),\n",
        "                                                 batch_size = 10,\n",
        "                                                 class_mode = \"binary\")"
      ],
      "metadata": {
        "colab": {
          "base_uri": "https://localhost:8080/"
        },
        "id": "oPpmDQF_El89",
        "outputId": "748613cd-fe0a-4821-dff7-aad21ef7e26f"
      },
      "execution_count": null,
      "outputs": [
        {
          "output_type": "stream",
          "name": "stdout",
          "text": [
            "Found 2637 images belonging to 2 classes.\n"
          ]
        }
      ]
    },
    {
      "cell_type": "code",
      "source": [
        "test_datagen = ImageDataGenerator(rescale = 1./255)\n",
        "test_set = test_datagen.flow_from_directory('/content/drive/MyDrive/skin cancer last data/test',\n",
        "                                            target_size = (32, 32),\n",
        "                                            batch_size = 32,\n",
        "                                            class_mode = \"binary\")"
      ],
      "metadata": {
        "colab": {
          "base_uri": "https://localhost:8080/"
        },
        "id": "Xtb12Qyfj_Gb",
        "outputId": "9fe0acfd-60f6-4a37-e3e4-20d3efa6235b"
      },
      "execution_count": null,
      "outputs": [
        {
          "output_type": "stream",
          "name": "stdout",
          "text": [
            "Found 660 images belonging to 2 classes.\n"
          ]
        }
      ]
    },
    {
      "cell_type": "code",
      "source": [
        "hist=model.fit(training_set, validation_data = test_set, epochs = 10)"
      ],
      "metadata": {
        "colab": {
          "base_uri": "https://localhost:8080/"
        },
        "id": "8XS3AkLdpA8m",
        "outputId": "b6cdb3c4-2024-42d6-cbbf-14b8c21f2270"
      },
      "execution_count": null,
      "outputs": [
        {
          "output_type": "stream",
          "name": "stdout",
          "text": [
            "Epoch 1/10\n",
            "264/264 [==============================] - 20s 75ms/step - loss: 0.3673 - accuracy: 0.8180 - val_loss: 0.3469 - val_accuracy: 0.8318\n",
            "Epoch 2/10\n",
            "264/264 [==============================] - 20s 77ms/step - loss: 0.3700 - accuracy: 0.8195 - val_loss: 0.3464 - val_accuracy: 0.8333\n",
            "Epoch 3/10\n",
            "264/264 [==============================] - 19s 72ms/step - loss: 0.3723 - accuracy: 0.8168 - val_loss: 0.3686 - val_accuracy: 0.8061\n",
            "Epoch 4/10\n",
            "264/264 [==============================] - 21s 80ms/step - loss: 0.3558 - accuracy: 0.8214 - val_loss: 0.3471 - val_accuracy: 0.8439\n",
            "Epoch 5/10\n",
            "264/264 [==============================] - 20s 75ms/step - loss: 0.3664 - accuracy: 0.8161 - val_loss: 0.3423 - val_accuracy: 0.8455\n",
            "Epoch 6/10\n",
            "264/264 [==============================] - 20s 74ms/step - loss: 0.3537 - accuracy: 0.8229 - val_loss: 0.3556 - val_accuracy: 0.8136\n",
            "Epoch 7/10\n",
            "264/264 [==============================] - 19s 71ms/step - loss: 0.3478 - accuracy: 0.8282 - val_loss: 0.3489 - val_accuracy: 0.8379\n",
            "Epoch 8/10\n",
            "264/264 [==============================] - 20s 76ms/step - loss: 0.3418 - accuracy: 0.8248 - val_loss: 0.3537 - val_accuracy: 0.8455\n",
            "Epoch 9/10\n",
            "264/264 [==============================] - 21s 78ms/step - loss: 0.3405 - accuracy: 0.8271 - val_loss: 0.3473 - val_accuracy: 0.8318\n",
            "Epoch 10/10\n",
            "264/264 [==============================] - 20s 76ms/step - loss: 0.3435 - accuracy: 0.8362 - val_loss: 0.3277 - val_accuracy: 0.8530\n"
          ]
        }
      ]
    },
    {
      "cell_type": "code",
      "source": [
        "plt.plot(hist.history['accuracy'])\n",
        "plt.plot(hist.history['val_accuracy'])\n",
        "plt.title('Modle Accuracy')\n",
        "plt.ylabel('Accuracy')\n",
        "plt.xlabel('Epoch')\n",
        "plt.legend(['Train','Val'], loc='upper left')\n",
        "plt.show()"
      ],
      "metadata": {
        "colab": {
          "base_uri": "https://localhost:8080/",
          "height": 295
        },
        "id": "FmgGLoTkp1ol",
        "outputId": "8b8bf27e-c839-4642-8e2d-3b1e2eba0321"
      },
      "execution_count": null,
      "outputs": [
        {
          "output_type": "display_data",
          "data": {
            "text/plain": [
              "<Figure size 432x288 with 1 Axes>"
            ],
            "image/png": "[encoded data removed]"
          },
          "metadata": {
            "needs_background": "light"
          }
        }
      ]
    }
  ]
}